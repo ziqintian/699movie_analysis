{
 "cells": [
  {
   "cell_type": "code",
   "execution_count": null,
   "id": "9fdd8c54-db6b-4010-9984-9086428a845d",
   "metadata": {},
   "outputs": [],
   "source": [
    "import requests\n",
    "from bs4 import BeautifulSoup\n",
    "import csv\n",
    "url_pattern = 'https://www.the-numbers.com/box-office-chart/{}-{}-01'\n",
    "with open('movie_revenue.csv', mode='w', newline='') as csvfile:\n",
    "    writer = csv.writer(csvfile)\n",
    "    writer.writerow(['Year', 'Title', 'Distributor', 'Revenue'])\n",
    "\n",
    "    # Loop through the years 2018 to 2022\n",
    "    for year in range(2018, 2023):\n",
    "        url = url_pattern.format(year, '01')\n",
    "        response = requests.get(url)\n",
    "        \n",
    "        soup = BeautifulSoup(response.content, 'html.parser')\n",
    "        \n",
    "        # Find the table \n",
    "        table = soup.find('table')\n",
    "        for row in table.find_all('tr')[1:]:\n",
    "            columns = row.find_all('td')\n",
    "            \n",
    "            # Extract the relevant data from the columns\n",
    "            title = columns[1].text.strip()\n",
    "            distributor = columns[2].text.strip()\n",
    "            revenue = columns[3].text.strip().replace('$', '').replace(',', '')\n",
    "            \n",
    "            # Write the data to the CSV file\n",
    "            writer.writerow([year, title, distributor, revenue])"
   ]
  }
 ],
 "metadata": {
  "kernelspec": {
   "display_name": "Python 3 (ipykernel)",
   "language": "python",
   "name": "python3"
  },
  "language_info": {
   "codemirror_mode": {
    "name": "ipython",
    "version": 3
   },
   "file_extension": ".py",
   "mimetype": "text/x-python",
   "name": "python",
   "nbconvert_exporter": "python",
   "pygments_lexer": "ipython3",
   "version": "3.9.7"
  }
 },
 "nbformat": 4,
 "nbformat_minor": 5
}
